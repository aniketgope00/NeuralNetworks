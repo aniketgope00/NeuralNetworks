{
 "cells": [
  {
   "cell_type": "code",
   "execution_count": 1,
   "metadata": {},
   "outputs": [],
   "source": [
    "#code a neuron\n",
    "#code layer of neurons\n",
    "#using numpy to simplify the coding"
   ]
  },
  {
   "cell_type": "code",
   "execution_count": 4,
   "metadata": {},
   "outputs": [
    {
     "name": "stdout",
     "output_type": "stream",
     "text": [
      "2.3\n"
     ]
    }
   ],
   "source": [
    "#neuron with 3 inputs\n",
    "inputs = [1, 2, 3]\n",
    "weights = [0.2, 0.8,-0.5]\n",
    "bias = 2\n",
    "output = inputs[0]*weights[0] + inputs[1]*weights[1] + inputs[2]*weights[2] + bias\n",
    "print(output)"
   ]
  },
  {
   "cell_type": "code",
   "execution_count": 10,
   "metadata": {},
   "outputs": [
    {
     "name": "stdout",
     "output_type": "stream",
     "text": [
      "[4.5, 1.75, 2.675]\n",
      "[4.5, 1.75, 2.675]\n"
     ]
    }
   ],
   "source": [
    "#layer of neurons\n",
    "inputs = [1, 2, 3, 2.5]\n",
    "weights = [[0.2, 0.8, -0.5, 1],\n",
    "      [0.5, -0.91, 0.26, -0.5],\n",
    "      [-0.26, -0.27, 0.17, 0.87]]\n",
    "\n",
    "bias = [2, 3, 0.5]\n",
    "\n",
    "\"\"\"\n",
    "outputs = []\n",
    "current_neuron = 1\n",
    "for w in weights:\n",
    "    for i in range(len(inputs)):\n",
    "        op = w[i]*inputs[i]\n",
    "    outputs.append(op + bias[current_neuron - 1])\n",
    "    current_neuron += 1\n",
    "print(outputs)\n",
    "\"\"\"\n",
    "\n",
    "#using zip()\n",
    "neuron_output = []\n",
    "for neuron_weights, neuron_bias in zip(weights, bias):\n",
    "    op = 0\n",
    "    for ip, weight in zip(inputs, neuron_weights):\n",
    "        op = ip * weight\n",
    "    op += neuron_bias\n",
    "    neuron_output.append(op)\n",
    "print(neuron_output)"
   ]
  },
  {
   "cell_type": "code",
   "execution_count": 12,
   "metadata": {},
   "outputs": [
    {
     "name": "stdout",
     "output_type": "stream",
     "text": [
      "4.05\n"
     ]
    }
   ],
   "source": [
    "#using numpy\n",
    "import numpy as np\n",
    "#single neuron\n",
    "inputs = [1, 2, 3]\n",
    "weights = [0.2, 0.5, 0.8]\n",
    "bias = 0.45\n",
    "output = np.dot(inputs, weights) + bias\n",
    "print(output)"
   ]
  },
  {
   "cell_type": "code",
   "execution_count": 21,
   "metadata": {},
   "outputs": [
    {
     "name": "stdout",
     "output_type": "stream",
     "text": [
      "[0.925  0.764  1.1502]\n",
      "\n",
      "\n",
      "[[0.925  0.764  1.1502]\n",
      " [0.958  0.787  1.1703]\n",
      " [1.14   0.82   1.2704]]\n"
     ]
    }
   ],
   "source": [
    "#using numpy\n",
    "#layer\n",
    "inputs = [0.1, 0.2, 0.3, 0.4]\n",
    "weights = [[0.01, 0.02, 0.5, 0.8],\n",
    "           [0.2, 0.04, 0.1, 0.09],\n",
    "           [0.1, 0.001, 0.3, 0.4]]\n",
    "bias = np.array([0.45, 0.67, 0.89])\n",
    "output = np.dot(weights, inputs) + bias\n",
    "print(output)\n",
    "print(\"\\n\")\n",
    "\n",
    "#batch\n",
    "inputs = [[0.1, 0.2, 0.3, 0.4],\n",
    "          [0.2, 0.3, 0.2, 0.5],\n",
    "          [0.2, 0.4, 0.4, 0.6]]\n",
    "weights = np.array([[0.01, 0.02, 0.5, 0.8],\n",
    "           [0.2, 0.04, 0.1, 0.09],\n",
    "           [0.1, 0.001, 0.3, 0.4]])\n",
    "bias = np.array([0.45, 0.67, 0.89])\n",
    "output = np.dot(inputs, np.transpose(weights)) + bias\n",
    "print(output)"
   ]
  },
  {
   "cell_type": "code",
   "execution_count": null,
   "metadata": {},
   "outputs": [],
   "source": []
  }
 ],
 "metadata": {
  "kernelspec": {
   "display_name": "Python 3",
   "language": "python",
   "name": "python3"
  },
  "language_info": {
   "codemirror_mode": {
    "name": "ipython",
    "version": 3
   },
   "file_extension": ".py",
   "mimetype": "text/x-python",
   "name": "python",
   "nbconvert_exporter": "python",
   "pygments_lexer": "ipython3",
   "version": "3.12.4"
  }
 },
 "nbformat": 4,
 "nbformat_minor": 2
}
